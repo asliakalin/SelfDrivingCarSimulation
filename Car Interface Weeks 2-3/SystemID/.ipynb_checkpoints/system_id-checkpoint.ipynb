{
 "cells": [
  {
   "cell_type": "code",
   "execution_count": 23,
   "metadata": {},
   "outputs": [],
   "source": [
    "import sys\n",
    "sys.path.append('../')\n",
    "\n",
    "import controller\n",
    "import numpy as np\n",
    "import matplotlib.pyplot as plt\n",
    "from sklearn.linear_model import LinearRegression"
   ]
  },
  {
   "cell_type": "code",
   "execution_count": 25,
   "metadata": {},
   "outputs": [
    {
     "name": "stdout",
     "output_type": "stream",
     "text": [
      "accelerate 88.13%\n",
      "brake 97.97%\n",
      "accelerate 86.46%\n",
      "brake 83.81%\n",
      "accelerate 90.98%\n",
      "brake 86.10%\n",
      "accelerate 47.08%\n",
      "brake 44.12%\n",
      "accelerate 60.02%\n",
      "brake 6.98%\n"
     ]
    }
   ],
   "source": [
    "np.random.seed(149)\n",
    "\n",
    "ci = controller.Car_Interface()\n",
    "\n",
    "ci.set_gear(ci.FORWARD)\n",
    "\n",
    "def apply_random_controls(ci, num, time_per, sim_rate):\n",
    "\n",
    "    commands = []\n",
    "\n",
    "    for i in range(num):\n",
    "        amt = np.random.random()\n",
    "        if (i % 2 == 0):\n",
    "            ci.apply_control(pedal = ci.ACCELERATOR, time = time_per, amount = amt, sim_rate = sim_rate)\n",
    "            commands.append(('accelerate', amt))\n",
    "        else:\n",
    "            ci.apply_control(pedal = ci.BRAKE, time = time_per, amount = amt, sim_rate = sim_rate)\n",
    "            commands.append(('brake', amt))\n",
    "\n",
    "    return commands\n",
    "\n",
    "\n",
    "N = 20\n",
    "TIME_PER = 50\n",
    "SIM_RATE = 20\n",
    "commands = apply_random_controls(ci, num = N, time_per = TIME_PER, sim_rate = SIM_RATE)\n",
    "\n",
    "for i in range(5):\n",
    "    print(commands[2 * i][0], f\"{commands[2 * i][1] * 100:.2f}%\")\n",
    "    print(commands[2 * i + 1][0], f\"{commands[2 * i + 1][1] * 100:.2f}%\")"
   ]
  },
  {
   "cell_type": "code",
   "execution_count": 22,
   "metadata": {},
   "outputs": [
    {
     "name": "stdout",
     "output_type": "stream",
     "text": [
      "9001\n"
     ]
    },
    {
     "ename": "IndexError",
     "evalue": "list index out of range",
     "output_type": "error",
     "traceback": [
      "\u001b[0;31m---------------------------------------------------------------------------\u001b[0m",
      "\u001b[0;31mIndexError\u001b[0m                                Traceback (most recent call last)",
      "\u001b[0;32m<ipython-input-22-60e540676a08>\u001b[0m in \u001b[0;36m<module>\u001b[0;34m\u001b[0m\n\u001b[1;32m     15\u001b[0m \u001b[0;32mfor\u001b[0m \u001b[0mi\u001b[0m \u001b[0;32min\u001b[0m \u001b[0mrange\u001b[0m\u001b[0;34m(\u001b[0m\u001b[0mN\u001b[0m \u001b[0;34m*\u001b[0m \u001b[0mTIME_PER\u001b[0m \u001b[0;34m*\u001b[0m \u001b[0mSIM_RATE\u001b[0m\u001b[0;34m)\u001b[0m\u001b[0;34m:\u001b[0m\u001b[0;34m\u001b[0m\u001b[0;34m\u001b[0m\u001b[0m\n\u001b[1;32m     16\u001b[0m     \u001b[0mcmd\u001b[0m \u001b[0;34m=\u001b[0m \u001b[0mcommands\u001b[0m\u001b[0;34m[\u001b[0m\u001b[0mint\u001b[0m\u001b[0;34m(\u001b[0m\u001b[0mi\u001b[0m \u001b[0;34m/\u001b[0m \u001b[0;34m(\u001b[0m\u001b[0mTIME_PER\u001b[0m \u001b[0;34m*\u001b[0m \u001b[0mSIM_RATE\u001b[0m\u001b[0;34m)\u001b[0m\u001b[0;34m)\u001b[0m\u001b[0;34m]\u001b[0m\u001b[0;34m\u001b[0m\u001b[0;34m\u001b[0m\u001b[0m\n\u001b[0;32m---> 17\u001b[0;31m     \u001b[0mvel\u001b[0m \u001b[0;34m=\u001b[0m \u001b[0mvel_log\u001b[0m\u001b[0;34m[\u001b[0m\u001b[0mi\u001b[0m\u001b[0;34m]\u001b[0m\u001b[0;34m\u001b[0m\u001b[0;34m\u001b[0m\u001b[0m\n\u001b[0m\u001b[1;32m     18\u001b[0m     \u001b[0macc\u001b[0m \u001b[0;34m=\u001b[0m \u001b[0macc_log\u001b[0m\u001b[0;34m[\u001b[0m\u001b[0mi\u001b[0m\u001b[0;34m]\u001b[0m\u001b[0;34m\u001b[0m\u001b[0;34m\u001b[0m\u001b[0m\n\u001b[1;32m     19\u001b[0m     \u001b[0mt\u001b[0m \u001b[0;34m=\u001b[0m \u001b[0mtime_log\u001b[0m\u001b[0;34m[\u001b[0m\u001b[0mi\u001b[0m\u001b[0;34m]\u001b[0m\u001b[0;34m\u001b[0m\u001b[0;34m\u001b[0m\u001b[0m\n",
      "\u001b[0;31mIndexError\u001b[0m: list index out of range"
     ]
    }
   ],
   "source": [
    "vel_log = ci.log[\"velocity\"]\n",
    "acc_log = ci.log[\"acceleration\"]\n",
    "time_log = ci.log[\"time\"]\n",
    "\n",
    "print(len(vel_log))\n",
    "\n",
    "filt_times = []\n",
    "filt_inps = []\n",
    "filt_outs = []\n",
    "\n",
    "all_times = []\n",
    "all_inps = []\n",
    "all_outs = []\n",
    "\n",
    "for i in range(N * TIME_PER * SIM_RATE):\n",
    "    cmd = commands[int(i / (TIME_PER * SIM_RATE))]\n",
    "    vel = vel_log[i]\n",
    "    acc = acc_log[i]\n",
    "    t = time_log[i]\n",
    "\n",
    "    if (cmd[0] == 'accelerate'):\n",
    "        inp = [cmd[1], 0, vel]\n",
    "    elif(cmd[0] == 'brake'):\n",
    "        inp = [0, cmd[1], vel]\n",
    "\n",
    "    all_inps.append(inp)\n",
    "    all_outs.append(acc)\n",
    "    all_times.append(t)\n",
    "\n",
    "    if (abs(acc) > 0.003):\n",
    "        filt_inps.append(inp)\n",
    "        filt_outs.append(acc)\n",
    "        filt_times.append(t)\n",
    "\n",
    "\n",
    "\n",
    "plt.title(\"Collected Data\")\n",
    "plt.xlabel(\"Time\")\n",
    "plt.ylabel(\"Acceleration\")\n",
    "plt.scatter(all_times, all_outs, color = 'b')\n",
    "plt.show()\n",
    "\n",
    "print(f\"Actual Coefficients:\")\n",
    "print(f\"Accelerator Weight: {ci.accelerator_weight}\")\n",
    "print(f\"Brake Weight: {ci.brake_weight}\")\n",
    "print(f\"Friction Constant: {ci.friction_constant}\")\n",
    "print(f\"Rolling Bias: {ci.rolling_bias}\")\n",
    "print(\"___________________________________________\")"
   ]
  },
  {
   "cell_type": "code",
   "execution_count": 14,
   "metadata": {},
   "outputs": [
    {
     "name": "stdout",
     "output_type": "stream",
     "text": [
      "Model Fit 0.09321695649546913\n",
      "Model Predictions:\n",
      "Accelerator Weight: -0.025941567225298067\n",
      "Brake Weight: 0.01583349089398795\n",
      "Friction Constant: -0.035245866010757965\n",
      "Rolling Bias: 0.011510516869667135\n",
      "___________________________________________\n"
     ]
    },
    {
     "data": {
      "image/png": "[encoded data removed]",
      "text/plain": [
       "<Figure size 432x288 with 1 Axes>"
      ]
     },
     "metadata": {
      "needs_background": "light"
     },
     "output_type": "display_data"
    }
   ],
   "source": [
    "model = LinearRegression()\n",
    "\n",
    "model.fit(all_inps, all_outs)\n",
    "fit_score = model.score(all_inps, all_outs)\n",
    "(acc_w, brake_w, f_c), r_b = model.coef_, model.intercept_\n",
    "\n",
    "print(f\"Model Fit {fit_score}\")\n",
    "print(f\"Model Predictions:\")\n",
    "print(f\"Accelerator Weight: {acc_w}\")\n",
    "print(f\"Brake Weight: {brake_w}\")\n",
    "print(f\"Friction Constant: {f_c}\")\n",
    "print(f\"Rolling Bias: {r_b}\")\n",
    "print(\"___________________________________________\")\n",
    "\n",
    "plt.clf()\n",
    "plt.title(\"Model Predictions on all Data\")\n",
    "plt.xlabel(\"Time\")\n",
    "plt.ylabel(\"Acceleration\")\n",
    "plt.scatter(all_times, all_outs, color = 'b')\n",
    "plt.scatter(all_times, model.predict(all_inps), color = 'r')\n",
    "plt.show()"
   ]
  },
  {
   "cell_type": "code",
   "execution_count": 15,
   "metadata": {},
   "outputs": [
    {
     "data": {
      "image/png": "[encoded data removed]",
      "text/plain": [
       "<Figure size 432x288 with 1 Axes>"
      ]
     },
     "metadata": {
      "needs_background": "light"
     },
     "output_type": "display_data"
    },
    {
     "name": "stdout",
     "output_type": "stream",
     "text": [
      "Model Fit 0.5314592814700698\n",
      "Model Predictions:\n",
      "Accelerator Weight: -0.183802157881407\n",
      "Brake Weight: 0.042749047377611704\n",
      "Friction Constant: -0.03026627006069772\n",
      "Rolling Bias: -0.002524117531803008\n",
      "___________________________________________\n"
     ]
    },
    {
     "data": {
      "image/png": "[encoded data removed]",
      "text/plain": [
       "<Figure size 432x288 with 1 Axes>"
      ]
     },
     "metadata": {
      "needs_background": "light"
     },
     "output_type": "display_data"
    }
   ],
   "source": [
    "plt.clf()\n",
    "plt.title(\"Filtered Data\")\n",
    "plt.scatter(filt_times, filt_outs, color = 'b')\n",
    "plt.xlabel(\"Time\")\n",
    "plt.ylabel(\"Acceleration\")\n",
    "plt.show()\n",
    "\n",
    "model.fit(filt_inps, filt_outs)\n",
    "fit_score = model.score(filt_inps, filt_outs)\n",
    "(acc_w, brake_w, f_c), r_b = model.coef_, model.intercept_\n",
    "\n",
    "print(f\"Model Fit {fit_score}\")\n",
    "print(f\"Model Predictions:\")\n",
    "print(f\"Accelerator Weight: {acc_w}\")\n",
    "print(f\"Brake Weight: {brake_w}\")\n",
    "print(f\"Friction Constant: {f_c}\")\n",
    "print(f\"Rolling Bias: {r_b}\")\n",
    "print(\"___________________________________________\")\n",
    "\n",
    "plt.clf()\n",
    "plt.title(\"Model Predictions on Filtered Data\")\n",
    "plt.xlabel(\"Time\")\n",
    "plt.ylabel(\"Acceleration\")\n",
    "plt.scatter(filt_times, filt_outs, color = 'b')\n",
    "plt.scatter(filt_times, model.predict(filt_inps), color = 'r')\n",
    "plt.show()"
   ]
  },
  {
   "cell_type": "code",
   "execution_count": null,
   "metadata": {},
   "outputs": [],
   "source": []
  },
  {
   "cell_type": "code",
   "execution_count": null,
   "metadata": {},
   "outputs": [],
   "source": []
  }
 ],
 "metadata": {
  "kernelspec": {
   "display_name": "Python 3",
   "language": "python",
   "name": "python3"
  },
  "language_info": {
   "codemirror_mode": {
    "name": "ipython",
    "version": 3
   },
   "file_extension": ".py",
   "mimetype": "text/x-python",
   "name": "python",
   "nbconvert_exporter": "python",
   "pygments_lexer": "ipython3",
   "version": "3.6.7"
  }
 },
 "nbformat": 4,
 "nbformat_minor": 2
}
