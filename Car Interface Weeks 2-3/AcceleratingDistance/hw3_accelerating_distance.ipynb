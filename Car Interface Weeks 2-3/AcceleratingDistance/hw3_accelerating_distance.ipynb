{
 "cells": [
  {
   "cell_type": "code",
   "execution_count": null,
   "metadata": {},
   "outputs": [],
   "source": [
    "import sys\n",
    "sys.path.append('../')\n",
    "\n",
    "import controller\n",
    "import torch\n",
    "import torch.nn as nn\n",
    "import random\n",
    "import numpy as np\n",
    "import matplotlib.pyplot as plt"
   ]
  },
  {
   "cell_type": "code",
   "execution_count": null,
   "metadata": {},
   "outputs": [],
   "source": [
    "CAR_MODEL = \"simple\"\n",
    "ci = controller.Car_Interface(model = CAR_MODEL)\n",
    "\n",
    "ci.set_gear(ci.FORWARD)"
   ]
  },
  {
   "cell_type": "code",
   "execution_count": null,
   "metadata": {},
   "outputs": [],
   "source": [
    "np.random.seed(191)\n",
    "\n",
    "'''\n",
    "We want to make a model that can tell you how much\n",
    "you should depress the accelerator in order to achieve\n",
    "a target speed after travelling a target distance.\n",
    "\n",
    "Your goal is to randomly generate an (input, output)\n",
    "pair that can be used for training or evaluating your\n",
    "model. The input would be in the form of the final speed\n",
    "achieved and the distance travelled and the output would\n",
    "be the amount the pedal was accelerated to get there.\n",
    "'''\n",
    "def accelerating_distance_gen(ci):\n",
    "    \n",
    "    #CODE HERE\n",
    "    \n",
    "    inp = [final_speed, distance_travelled]\n",
    "\n",
    "    return amt, inp"
   ]
  },
  {
   "cell_type": "code",
   "execution_count": null,
   "metadata": {},
   "outputs": [],
   "source": [
    "amt, (final_speed, distance_travelled) = accelerating_distance_gen(ci)\n",
    "print(f\"A car applied {amt * 100:.2f}% accelerator, and achieved a speed of {final_speed * 100:.2f}% after travelling {distance_travelled:.2f} distance units\")"
   ]
  },
  {
   "cell_type": "code",
   "execution_count": 1,
   "metadata": {},
   "outputs": [],
   "source": [
    "'''\n",
    "Function should return how much distance the car\n",
    "would travel if the accelerator was being pressed amt\n",
    "until it acheived final_velocity\n",
    "'''\n",
    "def actual_accelerating_distance(final_velocity, amt):\n",
    "    #OPTIONAL CODE HERE\n",
    "    return d\n",
    "\n",
    "def approximate_amount(inp, tol = 1e-5, min_amt = 0, max_amt = 1):\n",
    "    mid_amt = (min_amt + max_amt) / 2\n",
    "    if (max_amt - min_amt < 2 * tol):\n",
    "        return mid_amt\n",
    "\n",
    "    v, accelerating_distance = inp\n",
    "    if (actual_accelerating_distance(v, mid_amt) < accelerating_distance):\n",
    "        return approximate_amount(inp, tol, min_amt, mid_amt)\n",
    "    else:\n",
    "        return approximate_amount(inp, tol, mid_amt, max_amt)"
   ]
  },
  {
   "cell_type": "code",
   "execution_count": null,
   "metadata": {},
   "outputs": [],
   "source": [
    "'''\n",
    "Fully Connected Module used to predict\n",
    "necessary accelerator pedal depression given\n",
    "target velocity and target distance from standstill.\n",
    "'''\n",
    "class fcn(nn.Module):\n",
    "\n",
    "    def __init__(self):\n",
    "        super().__init__()\n",
    "\n",
    "        #CODE HERE\n",
    "\n",
    "    def forward(self, x):\n",
    "\n",
    "       #CODE HERE"
   ]
  },
  {
   "cell_type": "code",
   "execution_count": null,
   "metadata": {},
   "outputs": [],
   "source": [
    "#Initialize training parameters here\n",
    "\n",
    "USE_LAST = True\n",
    "\n",
    "FN = \"weights_\" + CAR_MODEL\n",
    "\n",
    "model = fcn()\n",
    "if(USE_LAST):\n",
    "    model.load_state_dict(torch.load(open(FN + \".pt\", \"rb\")))\n",
    "\n",
    "#Initialize optimizer here\n",
    "\n",
    "for e in range(EPOCHS):\n",
    "    e_loss = 0\n",
    "    for b in range(NUM_BATCHES):\n",
    "        b_loss = 0\n",
    "        for i in range(BATCH_SIZE):\n",
    "            \n",
    "            #get example input output and increment batch loss based on model error\n",
    "\n",
    "        b_loss /= BATCH_SIZE\n",
    "\n",
    "        optimizer.zero_grad()\n",
    "        b_loss.backward()\n",
    "        optimizer.step()\n",
    "\n",
    "        b_loss = b_loss.detach().numpy()\n",
    "        print(f\"B {b} L {b_loss:.4f}\", end = \"\\r\")\n",
    "        e_loss += b_loss\n",
    "\n",
    "    e_loss /= NUM_BATCHES\n",
    "    print(f\"EPOCH {e + 1} {e_loss:.4f}\")\n",
    "\n",
    "    torch.save(model.state_dict(), open(FN + \".pt\", \"wb\"))"
   ]
  },
  {
   "cell_type": "code",
   "execution_count": null,
   "metadata": {},
   "outputs": [],
   "source": [
    "TEST = 300\n",
    "correct = 0\n",
    "tol = 0.1\n",
    "errors = []\n",
    "for i in range(TEST):\n",
    "    print(f\"TESTING {i + 1}/{TEST}\", end = \"\\r\")\n",
    "    amt, inp = accelerating_distance_gen(ci)\n",
    "\n",
    "    #run this to get FCN output\n",
    "    out = model(inp).detach().numpy()\n",
    "    \n",
    "    #run this to use analytical output\n",
    "    #out = approximate_amount(inp)\n",
    "\n",
    "    if (abs(out - amt) < tol):\n",
    "        correct += 1\n",
    "    errors.append(out - amt)\n",
    "print(f\"WITHIN {tol} {correct}/{TEST} times\")\n",
    "print(f\"AVERAGE ERROR {np.mean(np.abs(errors))}\")\n",
    "\n",
    "plt.title(\"Error Distribution\")\n",
    "plt.hist(errors, bins = 200, range = (-1, 1))\n",
    "plt.show()"
   ]
  },
  {
   "cell_type": "code",
   "execution_count": null,
   "metadata": {},
   "outputs": [],
   "source": []
  }
 ],
 "metadata": {
  "kernelspec": {
   "display_name": "Python 3",
   "language": "python",
   "name": "python3"
  },
  "language_info": {
   "codemirror_mode": {
    "name": "ipython",
    "version": 3
   },
   "file_extension": ".py",
   "mimetype": "text/x-python",
   "name": "python",
   "nbconvert_exporter": "python",
   "pygments_lexer": "ipython3",
   "version": "3.6.7"
  }
 },
 "nbformat": 4,
 "nbformat_minor": 2
}
