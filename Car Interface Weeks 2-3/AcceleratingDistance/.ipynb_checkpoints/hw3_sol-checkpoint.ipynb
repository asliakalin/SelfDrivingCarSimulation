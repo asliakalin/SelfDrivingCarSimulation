{
 "cells": [
  {
   "cell_type": "code",
   "execution_count": 10,
   "metadata": {},
   "outputs": [],
   "source": [
    "import sys\n",
    "sys.path.append('../')\n",
    "\n",
    "import controller\n",
    "import torch\n",
    "import torch.nn as nn\n",
    "import random\n",
    "import numpy as np\n",
    "import matplotlib.pyplot as plt"
   ]
  },
  {
   "cell_type": "code",
   "execution_count": 22,
   "metadata": {},
   "outputs": [],
   "source": [
    "CAR_MODEL = \"simple\"\n",
    "ci = controller.Car_Interface(model = CAR_MODEL)\n",
    "\n",
    "ci.set_gear(ci.FORWARD)"
   ]
  },
  {
   "cell_type": "code",
   "execution_count": 23,
   "metadata": {},
   "outputs": [],
   "source": [
    "np.random.seed(191)\n",
    "\n",
    "def brake_until_stopped(ci, time_step = 1.0):\n",
    "    while(len(ci.log[\"velocity\"]) == 0 or ci.log[\"velocity\"][-1] > 0):\n",
    "        ci.apply_control(pedal = ci.BRAKE, amount = 1.0)\n",
    "\n",
    "def accelerating_distance_gen(ci):\n",
    "    amt = random.random()\n",
    "    t = random.random() * 20 + 10\n",
    "\n",
    "    brake_until_stopped(ci)\n",
    "    ci.zero_position()\n",
    "    ci.apply_control_for_time(pedal = ci.ACCELERATOR, amount = amt, time = t)\n",
    "\n",
    "    distance_travelled = ci.log[\"position\"][-1]\n",
    "    final_speed = ci.log[\"velocity\"][-1]\n",
    "    inp = [final_speed, distance_travelled]\n",
    "\n",
    "    return amt, inp"
   ]
  },
  {
   "cell_type": "code",
   "execution_count": 24,
   "metadata": {},
   "outputs": [
    {
     "name": "stdout",
     "output_type": "stream",
     "text": [
      "A car applied 83.73% accelerator, and achieved a speed of 80.96% after travelling 15.76 distance units\n"
     ]
    }
   ],
   "source": [
    "amt, (final_speed, distance_travelled) = accelerating_distance_gen(ci)\n",
    "print(f\"A car applied {amt * 100:.2f}% accelerator, and achieved a speed of {final_speed * 100:.2f}% after travelling {distance_travelled:.2f} distance units\")"
   ]
  },
  {
   "cell_type": "code",
   "execution_count": 25,
   "metadata": {},
   "outputs": [],
   "source": [
    "def actual_accelerating_distance(final_velocity, amt):\n",
    "    x = ci.accelerator_weight * amt + ci.rolling_bias\n",
    "    f = ci.friction_constant\n",
    "    v = final_velocity\n",
    "    if ((1-f*v/x) < 0):\n",
    "        return float(\"inf\")\n",
    "    \n",
    "    d = (-(x/f)*np.log(1-f*v/x) - v)/f\n",
    "    return d\n",
    "\n",
    "def approximate_amount(inp, tol = 1e-5, min_amt = 0, max_amt = 1):\n",
    "    mid_amt = (min_amt + max_amt) / 2\n",
    "    if (max_amt - min_amt < 2 * tol):\n",
    "        return mid_amt\n",
    "\n",
    "    v, accelerating_distance = inp\n",
    "    if (actual_accelerating_distance(v, mid_amt) < accelerating_distance):\n",
    "        return approximate_amount(inp, tol, min_amt, mid_amt)\n",
    "    else:\n",
    "        return approximate_amount(inp, tol, mid_amt, max_amt)"
   ]
  },
  {
   "cell_type": "code",
   "execution_count": 26,
   "metadata": {},
   "outputs": [],
   "source": [
    "class fcn(nn.Module):\n",
    "\n",
    "    def __init__(self):\n",
    "        super().__init__()\n",
    "\n",
    "        self.H_1 = 30\n",
    "        self.H_2 = 20\n",
    "\n",
    "        self.W_1 = nn.Parameter(torch.randn([2, self.H_1]))\n",
    "        self.B_1 = nn.Parameter(torch.randn([self.H_1]))\n",
    "\n",
    "        self.W_2 = nn.Parameter(torch.randn([self.H_1, self.H_2]))\n",
    "        self.B_2 = nn.Parameter(torch.randn([self.H_2]))\n",
    "\n",
    "        self.W_3 = nn.Parameter(torch.randn([self.H_2, 1]))\n",
    "        self.B_3 = nn.Parameter(torch.randn([1]))\n",
    "\n",
    "    def forward(self, x):\n",
    "\n",
    "        x = torch.tensor(x, dtype = torch.float32)\n",
    "\n",
    "        h_1 = torch.tanh(torch.matmul(x, self.W_1) + self.B_1)\n",
    "\n",
    "        h_2 = torch.tanh(torch.matmul(h_1, self.W_2) + self.B_2)\n",
    "\n",
    "        out = torch.squeeze(torch.matmul(h_2, self.W_3) + self.B_3)\n",
    "\n",
    "        return 1.15 * torch.sigmoid(out)"
   ]
  },
  {
   "cell_type": "code",
   "execution_count": 27,
   "metadata": {},
   "outputs": [
    {
     "name": "stdout",
     "output_type": "stream",
     "text": [
      "EPOCH 1 0.0065\n",
      "EPOCH 2 0.0074\n",
      "EPOCH 3 0.0068\n",
      "EPOCH 4 0.0070\n",
      "EPOCH 5 0.0078\n",
      "EPOCH 6 0.0084\n",
      "EPOCH 7 0.0068\n",
      "EPOCH 8 0.0065\n",
      "EPOCH 9 0.0062\n",
      "EPOCH 10 0.0064\n"
     ]
    }
   ],
   "source": [
    "NUM_BATCHES = 10\n",
    "BATCH_SIZE = 30\n",
    "EPOCHS = 10\n",
    "\n",
    "\n",
    "USE_LAST = True\n",
    "\n",
    "FN = \"weights_\" + CAR_MODEL\n",
    "\n",
    "model = fcn()\n",
    "if(USE_LAST):\n",
    "    model.load_state_dict(torch.load(open(FN + \".pt\", \"rb\")))\n",
    "\n",
    "optimizer = torch.optim.Adam(model.parameters(), lr = 1e-4)\n",
    "\n",
    "for e in range(EPOCHS):\n",
    "    e_loss = 0\n",
    "    for b in range(NUM_BATCHES):\n",
    "        b_loss = 0\n",
    "        for i in range(BATCH_SIZE):\n",
    "            amt, inp = accelerating_distance_gen(ci)\n",
    "\n",
    "            out = model(inp)\n",
    "\n",
    "            amt_t = torch.tensor(amt)\n",
    "            b_loss += (out - amt_t) ** 2\n",
    "\n",
    "        b_loss /= BATCH_SIZE\n",
    "\n",
    "        optimizer.zero_grad()\n",
    "        b_loss.backward()\n",
    "        optimizer.step()\n",
    "\n",
    "        b_loss = b_loss.detach().numpy()\n",
    "        print(f\"B {b} L {b_loss:.4f}\", end = \"\\r\")\n",
    "        e_loss += b_loss\n",
    "\n",
    "    e_loss /= NUM_BATCHES\n",
    "    print(f\"EPOCH {e + 1} {e_loss:.4f}\")\n",
    "\n",
    "    torch.save(model.state_dict(), open(FN + \".pt\", \"wb\"))"
   ]
  },
  {
   "cell_type": "code",
   "execution_count": 31,
   "metadata": {},
   "outputs": [
    {
     "name": "stdout",
     "output_type": "stream",
     "text": [
      "WITHIN 0.1 230/300 times\n",
      "AVERAGE ERROR 0.06523413116032159\n"
     ]
    },
    {
     "data": {
      "image/png": "[encoded data removed]",
      "text/plain": [
       "<Figure size 432x288 with 1 Axes>"
      ]
     },
     "metadata": {
      "needs_background": "light"
     },
     "output_type": "display_data"
    }
   ],
   "source": [
    "TEST = 300\n",
    "correct = 0\n",
    "tol = 0.1\n",
    "errors = []\n",
    "for i in range(TEST):\n",
    "    print(f\"TESTING {i + 1}/{TEST}\", end = \"\\r\")\n",
    "    amt, inp = accelerating_distance_gen(ci)\n",
    "\n",
    "    out = model(inp).detach().numpy()\n",
    "    #out = approximate_amount(inp)\n",
    "\n",
    "    if (abs(out - amt) < tol):\n",
    "        correct += 1\n",
    "    errors.append(out - amt)\n",
    "print(f\"WITHIN {tol} {correct}/{TEST} times\")\n",
    "print(f\"AVERAGE ERROR {np.mean(np.abs(errors))}\")\n",
    "\n",
    "plt.title(\"Error Distribution\")\n",
    "plt.hist(errors, bins = 200, range = (-1, 1))\n",
    "plt.show()"
   ]
  },
  {
   "cell_type": "code",
   "execution_count": null,
   "metadata": {},
   "outputs": [],
   "source": []
  }
 ],
 "metadata": {
  "kernelspec": {
   "display_name": "Python 3",
   "language": "python",
   "name": "python3"
  },
  "language_info": {
   "codemirror_mode": {
    "name": "ipython",
    "version": 3
   },
   "file_extension": ".py",
   "mimetype": "text/x-python",
   "name": "python",
   "nbconvert_exporter": "python",
   "pygments_lexer": "ipython3",
   "version": "3.6.7"
  }
 },
 "nbformat": 4,
 "nbformat_minor": 2
}
